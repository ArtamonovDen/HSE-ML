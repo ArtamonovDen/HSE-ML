{
 "cells": [
  {
   "cell_type": "markdown",
   "metadata": {},
   "source": [
    "\n",
    "# Домашнее задание №2\n",
    "## **Применение нейронных сетей для классификации**\n",
    "#### Выполнил: Артамонов Д., МАГ ИАД 2020\n",
    "https://www.kaggle.com/gauravdesurkar/lt-vehicle-loan-default-prediction"
   ]
  },
  {
   "cell_type": "code",
   "execution_count": 23,
   "metadata": {},
   "outputs": [
    {
     "name": "stdout",
     "output_type": "stream",
     "text": [
      "The autoreload extension is already loaded. To reload it, use:\n",
      "  %reload_ext autoreload\n"
     ]
    }
   ],
   "source": [
    "import pandas as pd\n",
    "import seaborn as sns\n",
    "import matplotlib.pyplot as plt\n",
    "%matplotlib inline\n",
    "\n",
    "from sklearn.model_selection import train_test_split\n",
    "\n",
    "from torch.utils.data import DataLoader\n",
    "import torch\n",
    "import os\n",
    "import numpy as np\n",
    "\n",
    "%load_ext autoreload\n",
    "%autoreload 2\n"
   ]
  },
  {
   "cell_type": "markdown",
   "metadata": {},
   "source": [
    "Вспомним как выглядят наши данные"
   ]
  },
  {
   "cell_type": "code",
   "execution_count": 2,
   "metadata": {},
   "outputs": [],
   "source": [
    "data_path = 'VehicleLoanDefaultPrediction'\n",
    "data = pd.read_csv(os.path.join(data_path, 'train.csv'))"
   ]
  },
  {
   "cell_type": "code",
   "execution_count": 3,
   "metadata": {},
   "outputs": [
    {
     "data": {
      "text/html": [
       "<div>\n",
       "<style scoped>\n",
       "    .dataframe tbody tr th:only-of-type {\n",
       "        vertical-align: middle;\n",
       "    }\n",
       "\n",
       "    .dataframe tbody tr th {\n",
       "        vertical-align: top;\n",
       "    }\n",
       "\n",
       "    .dataframe thead th {\n",
       "        text-align: right;\n",
       "    }\n",
       "</style>\n",
       "<table border=\"1\" class=\"dataframe\">\n",
       "  <thead>\n",
       "    <tr style=\"text-align: right;\">\n",
       "      <th></th>\n",
       "      <th>UniqueID</th>\n",
       "      <th>disbursed_amount</th>\n",
       "      <th>asset_cost</th>\n",
       "      <th>ltv</th>\n",
       "      <th>branch_id</th>\n",
       "      <th>supplier_id</th>\n",
       "      <th>manufacturer_id</th>\n",
       "      <th>Current_pincode_ID</th>\n",
       "      <th>Date.of.Birth</th>\n",
       "      <th>Employment.Type</th>\n",
       "      <th>...</th>\n",
       "      <th>SEC.SANCTIONED.AMOUNT</th>\n",
       "      <th>SEC.DISBURSED.AMOUNT</th>\n",
       "      <th>PRIMARY.INSTAL.AMT</th>\n",
       "      <th>SEC.INSTAL.AMT</th>\n",
       "      <th>NEW.ACCTS.IN.LAST.SIX.MONTHS</th>\n",
       "      <th>DELINQUENT.ACCTS.IN.LAST.SIX.MONTHS</th>\n",
       "      <th>AVERAGE.ACCT.AGE</th>\n",
       "      <th>CREDIT.HISTORY.LENGTH</th>\n",
       "      <th>NO.OF_INQUIRIES</th>\n",
       "      <th>loan_default</th>\n",
       "    </tr>\n",
       "  </thead>\n",
       "  <tbody>\n",
       "    <tr>\n",
       "      <th>0</th>\n",
       "      <td>420825</td>\n",
       "      <td>50578</td>\n",
       "      <td>58400</td>\n",
       "      <td>89.55</td>\n",
       "      <td>67</td>\n",
       "      <td>22807</td>\n",
       "      <td>45</td>\n",
       "      <td>1441</td>\n",
       "      <td>01-01-84</td>\n",
       "      <td>Salaried</td>\n",
       "      <td>...</td>\n",
       "      <td>0</td>\n",
       "      <td>0</td>\n",
       "      <td>0</td>\n",
       "      <td>0</td>\n",
       "      <td>0</td>\n",
       "      <td>0</td>\n",
       "      <td>0yrs 0mon</td>\n",
       "      <td>0yrs 0mon</td>\n",
       "      <td>0</td>\n",
       "      <td>0</td>\n",
       "    </tr>\n",
       "    <tr>\n",
       "      <th>1</th>\n",
       "      <td>537409</td>\n",
       "      <td>47145</td>\n",
       "      <td>65550</td>\n",
       "      <td>73.23</td>\n",
       "      <td>67</td>\n",
       "      <td>22807</td>\n",
       "      <td>45</td>\n",
       "      <td>1502</td>\n",
       "      <td>31-07-85</td>\n",
       "      <td>Self employed</td>\n",
       "      <td>...</td>\n",
       "      <td>0</td>\n",
       "      <td>0</td>\n",
       "      <td>1991</td>\n",
       "      <td>0</td>\n",
       "      <td>0</td>\n",
       "      <td>1</td>\n",
       "      <td>1yrs 11mon</td>\n",
       "      <td>1yrs 11mon</td>\n",
       "      <td>0</td>\n",
       "      <td>1</td>\n",
       "    </tr>\n",
       "    <tr>\n",
       "      <th>2</th>\n",
       "      <td>417566</td>\n",
       "      <td>53278</td>\n",
       "      <td>61360</td>\n",
       "      <td>89.63</td>\n",
       "      <td>67</td>\n",
       "      <td>22807</td>\n",
       "      <td>45</td>\n",
       "      <td>1497</td>\n",
       "      <td>24-08-85</td>\n",
       "      <td>Self employed</td>\n",
       "      <td>...</td>\n",
       "      <td>0</td>\n",
       "      <td>0</td>\n",
       "      <td>0</td>\n",
       "      <td>0</td>\n",
       "      <td>0</td>\n",
       "      <td>0</td>\n",
       "      <td>0yrs 0mon</td>\n",
       "      <td>0yrs 0mon</td>\n",
       "      <td>0</td>\n",
       "      <td>0</td>\n",
       "    </tr>\n",
       "    <tr>\n",
       "      <th>3</th>\n",
       "      <td>624493</td>\n",
       "      <td>57513</td>\n",
       "      <td>66113</td>\n",
       "      <td>88.48</td>\n",
       "      <td>67</td>\n",
       "      <td>22807</td>\n",
       "      <td>45</td>\n",
       "      <td>1501</td>\n",
       "      <td>30-12-93</td>\n",
       "      <td>Self employed</td>\n",
       "      <td>...</td>\n",
       "      <td>0</td>\n",
       "      <td>0</td>\n",
       "      <td>31</td>\n",
       "      <td>0</td>\n",
       "      <td>0</td>\n",
       "      <td>0</td>\n",
       "      <td>0yrs 8mon</td>\n",
       "      <td>1yrs 3mon</td>\n",
       "      <td>1</td>\n",
       "      <td>1</td>\n",
       "    </tr>\n",
       "    <tr>\n",
       "      <th>4</th>\n",
       "      <td>539055</td>\n",
       "      <td>52378</td>\n",
       "      <td>60300</td>\n",
       "      <td>88.39</td>\n",
       "      <td>67</td>\n",
       "      <td>22807</td>\n",
       "      <td>45</td>\n",
       "      <td>1495</td>\n",
       "      <td>09-12-77</td>\n",
       "      <td>Self employed</td>\n",
       "      <td>...</td>\n",
       "      <td>0</td>\n",
       "      <td>0</td>\n",
       "      <td>0</td>\n",
       "      <td>0</td>\n",
       "      <td>0</td>\n",
       "      <td>0</td>\n",
       "      <td>0yrs 0mon</td>\n",
       "      <td>0yrs 0mon</td>\n",
       "      <td>1</td>\n",
       "      <td>1</td>\n",
       "    </tr>\n",
       "  </tbody>\n",
       "</table>\n",
       "<p>5 rows × 41 columns</p>\n",
       "</div>"
      ],
      "text/plain": [
       "   UniqueID  disbursed_amount  asset_cost    ltv  branch_id  supplier_id  \\\n",
       "0    420825             50578       58400  89.55         67        22807   \n",
       "1    537409             47145       65550  73.23         67        22807   \n",
       "2    417566             53278       61360  89.63         67        22807   \n",
       "3    624493             57513       66113  88.48         67        22807   \n",
       "4    539055             52378       60300  88.39         67        22807   \n",
       "\n",
       "   manufacturer_id  Current_pincode_ID Date.of.Birth Employment.Type  ...  \\\n",
       "0               45                1441      01-01-84        Salaried  ...   \n",
       "1               45                1502      31-07-85   Self employed  ...   \n",
       "2               45                1497      24-08-85   Self employed  ...   \n",
       "3               45                1501      30-12-93   Self employed  ...   \n",
       "4               45                1495      09-12-77   Self employed  ...   \n",
       "\n",
       "  SEC.SANCTIONED.AMOUNT  SEC.DISBURSED.AMOUNT  PRIMARY.INSTAL.AMT  \\\n",
       "0                     0                     0                   0   \n",
       "1                     0                     0                1991   \n",
       "2                     0                     0                   0   \n",
       "3                     0                     0                  31   \n",
       "4                     0                     0                   0   \n",
       "\n",
       "   SEC.INSTAL.AMT  NEW.ACCTS.IN.LAST.SIX.MONTHS  \\\n",
       "0               0                             0   \n",
       "1               0                             0   \n",
       "2               0                             0   \n",
       "3               0                             0   \n",
       "4               0                             0   \n",
       "\n",
       "   DELINQUENT.ACCTS.IN.LAST.SIX.MONTHS  AVERAGE.ACCT.AGE  \\\n",
       "0                                    0         0yrs 0mon   \n",
       "1                                    1        1yrs 11mon   \n",
       "2                                    0         0yrs 0mon   \n",
       "3                                    0         0yrs 8mon   \n",
       "4                                    0         0yrs 0mon   \n",
       "\n",
       "   CREDIT.HISTORY.LENGTH  NO.OF_INQUIRIES  loan_default  \n",
       "0              0yrs 0mon                0             0  \n",
       "1             1yrs 11mon                0             1  \n",
       "2              0yrs 0mon                0             0  \n",
       "3              1yrs 3mon                1             1  \n",
       "4              0yrs 0mon                1             1  \n",
       "\n",
       "[5 rows x 41 columns]"
      ]
     },
     "execution_count": 3,
     "metadata": {},
     "output_type": "execute_result"
    }
   ],
   "source": [
    "data.head(5)"
   ]
  },
  {
   "cell_type": "markdown",
   "metadata": {},
   "source": [
    "Несбалансированность классов:"
   ]
  },
  {
   "cell_type": "code",
   "execution_count": 4,
   "metadata": {},
   "outputs": [
    {
     "data": {
      "image/png": "[encoded data removed]",
      "text/plain": [
       "<Figure size 432x288 with 1 Axes>"
      ]
     },
     "metadata": {
      "needs_background": "light"
     },
     "output_type": "display_data"
    }
   ],
   "source": [
    "sns.histplot(data=data, x=\"loan_default\")\n",
    "plt.show()"
   ]
  },
  {
   "cell_type": "markdown",
   "metadata": {},
   "source": [
    "Всю логику по препроцессингу данных реализуем внутри Pytroch Dataset. При инициализации он будет принимать путь к csv-табличке, считывать  обрабатывать данные, а также балансировать классы. Так как данных достаточно, в качестве балансировки мы можем просто удалить часть данных \"перевешивающего\" класса. Датасет сам разделит данные на train/test и будет выдавать нужные в зависимости от режима(train/test)"
   ]
  },
  {
   "cell_type": "code",
   "execution_count": 5,
   "metadata": {},
   "outputs": [],
   "source": [
    "import loan_dataset"
   ]
  },
  {
   "cell_type": "code",
   "execution_count": 278,
   "metadata": {},
   "outputs": [],
   "source": [
    "dataset = loan_dataset.VehicleLoanDataset(os.path.join(data_path, 'train.csv'), balance=True, mode='train', test_size=0.2)"
   ]
  },
  {
   "cell_type": "code",
   "execution_count": 279,
   "metadata": {},
   "outputs": [
    {
     "data": {
      "image/png": "[encoded data removed]",
      "text/plain": [
       "<Figure size 432x288 with 1 Axes>"
      ]
     },
     "metadata": {
      "needs_background": "light"
     },
     "output_type": "display_data"
    }
   ],
   "source": [
    "sns.histplot(dataset.data, x=\"loan_default\")\n",
    "plt.show()"
   ]
  },
  {
   "cell_type": "markdown",
   "metadata": {},
   "source": [
    "Размеры тренировочной и тестовой выборок"
   ]
  },
  {
   "cell_type": "code",
   "execution_count": 286,
   "metadata": {},
   "outputs": [
    {
     "data": {
      "text/plain": [
       "(80977, 35)"
      ]
     },
     "execution_count": 286,
     "metadata": {},
     "output_type": "execute_result"
    }
   ],
   "source": [
    "dataset.X_train.shape"
   ]
  },
  {
   "cell_type": "code",
   "execution_count": 156,
   "metadata": {},
   "outputs": [
    {
     "data": {
      "text/plain": [
       "(20245, 35)"
      ]
     },
     "execution_count": 156,
     "metadata": {},
     "output_type": "execute_result"
    }
   ],
   "source": [
    "dataset.X_test.shape"
   ]
  },
  {
   "cell_type": "markdown",
   "metadata": {},
   "source": [
    "Заиспользуем видеокарту"
   ]
  },
  {
   "cell_type": "code",
   "execution_count": 6,
   "metadata": {},
   "outputs": [
    {
     "name": "stdout",
     "output_type": "stream",
     "text": [
      "cuda:0\n"
     ]
    }
   ],
   "source": [
    "device = torch.device(\"cuda:0\" if torch.cuda.is_available() else \"cpu\")\n",
    "print(device)"
   ]
  },
  {
   "cell_type": "markdown",
   "metadata": {},
   "source": [
    "## Пробуем различные архитектуры"
   ]
  },
  {
   "cell_type": "code",
   "execution_count": 16,
   "metadata": {},
   "outputs": [],
   "source": [
    "from torch.nn import Sequential\n",
    "import torch.nn as nn\n",
    "import torch.optim as optim"
   ]
  },
  {
   "cell_type": "markdown",
   "metadata": {},
   "source": [
    "Определим функцию для рассчёта accuracy. Так как на выходе из модели сигмоида не применяется, мы должны это учитывать при рассчёте"
   ]
  },
  {
   "cell_type": "code",
   "execution_count": 15,
   "metadata": {},
   "outputs": [],
   "source": [
    "def binary_acc(y_pred, y_test):\n",
    "    y_pred_tag = torch.round(torch.sigmoid(y_pred))\n",
    "\n",
    "    correct_results_sum = (y_pred_tag == y_test).sum().float()\n",
    "    acc = correct_results_sum/y_test.shape[0]\n",
    "    \n",
    "    return acc"
   ]
  },
  {
   "cell_type": "code",
   "execution_count": null,
   "metadata": {},
   "outputs": [],
   "source": [
    "input_size = dataset.get_shape()[1]"
   ]
  },
  {
   "cell_type": "code",
   "execution_count": 292,
   "metadata": {},
   "outputs": [
    {
     "data": {
      "text/plain": [
       "Sequential(\n",
       "  (0): Linear(in_features=35, out_features=64, bias=True)\n",
       "  (1): ReLU()\n",
       "  (2): Linear(in_features=64, out_features=1, bias=True)\n",
       ")"
      ]
     },
     "execution_count": 292,
     "metadata": {},
     "output_type": "execute_result"
    }
   ],
   "source": [
    "hidden_sizes = 64\n",
    "model = Sequential(nn.Linear(input_size, hidden_sizes),\n",
    "                   nn.ReLU(),\n",
    "                   nn.Linear(hidden_sizes, 1)\n",
    "                  )\n",
    "model.to(device)"
   ]
  },
  {
   "cell_type": "code",
   "execution_count": 293,
   "metadata": {},
   "outputs": [],
   "source": [
    "EPOCHS = 30\n",
    "BATCH_SIZE = 32\n",
    "LEARNING_RATE = 0.001"
   ]
  },
  {
   "cell_type": "markdown",
   "metadata": {},
   "source": [
    "Инициализируем даталоадер, с помощью которого мы будем итерироваться по выборке"
   ]
  },
  {
   "cell_type": "code",
   "execution_count": 294,
   "metadata": {},
   "outputs": [],
   "source": [
    "dataloader = DataLoader(dataset, batch_size=BATCH_SIZE, shuffle=False, num_workers=2)"
   ]
  },
  {
   "cell_type": "code",
   "execution_count": 295,
   "metadata": {},
   "outputs": [],
   "source": [
    "criterion = nn.BCEWithLogitsLoss()\n",
    "optimizer = optim.Adam(model.parameters(), lr=LEARNING_RATE)"
   ]
  },
  {
   "cell_type": "code",
   "execution_count": 296,
   "metadata": {},
   "outputs": [
    {
     "name": "stdout",
     "output_type": "stream",
     "text": [
      "[1] loss: 472.65569641995336, accuracy: 0.5170926819441347\n",
      "[2] loss: 271.3453169366588, accuracy: 0.5186490060548066\n",
      "[3] loss: 248.9705695621581, accuracy: 0.5190580679022747\n",
      "[4] loss: 162.40127626765857, accuracy: 0.5178722971512866\n",
      "[5] loss: 156.5089729363268, accuracy: 0.5246040165188756\n",
      "[6] loss: 48.53182550982053, accuracy: 0.511724017672388\n",
      "[7] loss: 15.062640149885487, accuracy: 0.514551121832825\n",
      "[8] loss: 10.845728363986073, accuracy: 0.500890054639149\n",
      "[9] loss: 1.423997522389936, accuracy: 0.5001612996984376\n",
      "[10] loss: 1.9948290467969043, accuracy: 0.4995807661015997\n",
      "[11] loss: 1.34833719652632, accuracy: 0.5004824459434969\n",
      "[12] loss: 1.1784348065438477, accuracy: 0.500494797722153\n",
      "[13] loss: 0.99497957983507, accuracy: 0.5009518135324297\n",
      "[14] loss: 0.6932827331096287, accuracy: 0.5010135724257103\n",
      "[15] loss: 0.6932827265130672, accuracy: 0.5010135724257103\n",
      "[16] loss: 0.6932827219897109, accuracy: 0.5010135724257103\n",
      "[17] loss: 0.6932827208353125, accuracy: 0.5010135724257103\n",
      "[18] loss: 0.6932827207646352, accuracy: 0.5010135724257103\n",
      "[19] loss: 0.6932827207881943, accuracy: 0.5010135724257103\n",
      "[20] loss: 0.693282720741076, accuracy: 0.5010135724257103\n",
      "[21] loss: 0.6932827208353125, accuracy: 0.5010135724257103\n",
      "[22] loss: 0.6932827208353125, accuracy: 0.5010135724257103\n",
      "[23] loss: 0.6932827208353125, accuracy: 0.5010135724257103\n",
      "[24] loss: 0.6932827208353125, accuracy: 0.5010135724257103\n",
      "[25] loss: 0.6932827208353125, accuracy: 0.5010135724257103\n",
      "[26] loss: 0.6932827208353125, accuracy: 0.5010135724257103\n",
      "[27] loss: 0.6947948642163408, accuracy: 0.5009147581964614\n",
      "[28] loss: 0.6932912348758562, accuracy: 0.5010382759830226\n",
      "[29] loss: 0.6932912225779808, accuracy: 0.5010382759830226\n",
      "[30] loss: 0.6932912220361205, accuracy: 0.5010382759830226\n",
      "Finished Training\n"
     ]
    }
   ],
   "source": [
    "model.train()\n",
    "for epoch in range(EPOCHS): \n",
    "\n",
    "    epoch_loss = 0.0\n",
    "    epoch_acc = 0.0\n",
    "    i_last = 0\n",
    "    for i, data in enumerate(dataloader):\n",
    "        X_batch, y_batch = data\n",
    "        X_batch, y_batch = X_batch.to(device), y_batch.to(device)\n",
    "\n",
    "        optimizer.zero_grad()\n",
    "        y_pred = model(X_batch)\n",
    "        loss = criterion(y_pred, y_batch)\n",
    "        acc = binary_acc(y_pred, y_batch)\n",
    "        \n",
    "        loss.backward()\n",
    "        optimizer.step()\n",
    "\n",
    "        # print statistics        \n",
    "        epoch_loss += loss.item()\n",
    "        epoch_acc += acc.item()\n",
    "        i_last = i\n",
    "    \n",
    "\n",
    "    print(f'[{epoch + 1}] loss: {epoch_loss / i_last}, accuracy: {epoch_acc/i_last}')\n",
    "\n",
    "\n",
    "print('Finished Training')"
   ]
  },
  {
   "cell_type": "markdown",
   "metadata": {},
   "source": [
    "Loss падает, а accuracy не меняется"
   ]
  },
  {
   "cell_type": "markdown",
   "metadata": {},
   "source": [
    "Посмотрим на результаты на тестовой выборке:"
   ]
  },
  {
   "cell_type": "code",
   "execution_count": 297,
   "metadata": {},
   "outputs": [],
   "source": [
    "dataset.set_mode('test')\n",
    "test_dataloader = DataLoader(dataset=dataset, batch_size=1)"
   ]
  },
  {
   "cell_type": "code",
   "execution_count": 306,
   "metadata": {},
   "outputs": [],
   "source": [
    "y_pred_list = []\n",
    "model.eval()\n",
    "with torch.no_grad():\n",
    "    for X_batch, y_test in test_dataloader:\n",
    "        X_batch = X_batch.to(device)\n",
    "        y_test_pred = model(X_batch)\n",
    "        y_test_pred = torch.sigmoid(y_test_pred)\n",
    "        y_pred_tag = torch.round(y_test_pred)\n",
    "        y_pred_list.append(y_pred_tag.cpu().numpy())\n"
   ]
  },
  {
   "cell_type": "code",
   "execution_count": 319,
   "metadata": {},
   "outputs": [
    {
     "data": {
      "text/plain": [
       "20245"
      ]
     },
     "execution_count": 319,
     "metadata": {},
     "output_type": "execute_result"
    }
   ],
   "source": [
    "len(y_pred_list)"
   ]
  },
  {
   "cell_type": "code",
   "execution_count": 311,
   "metadata": {},
   "outputs": [],
   "source": [
    "y_pred_list = [a.squeeze().item() for a in y_pred_list]"
   ]
  },
  {
   "cell_type": "code",
   "execution_count": 313,
   "metadata": {},
   "outputs": [],
   "source": [
    "y_pred_list  = np.array(y_pred_list)"
   ]
  },
  {
   "cell_type": "code",
   "execution_count": 317,
   "metadata": {},
   "outputs": [
    {
     "data": {
      "text/plain": [
       "20239.0"
      ]
     },
     "execution_count": 317,
     "metadata": {},
     "output_type": "execute_result"
    }
   ],
   "source": [
    "y_pred_list[y_pred_list > 0.5].sum()"
   ]
  },
  {
   "cell_type": "markdown",
   "metadata": {},
   "source": [
    "Модель практически всегда предсказывает единицу. Единица означает, что человек проспрочит выплату. Либо модель потеряла веру в людей, либо признаки в датасете не дают никаких шансов предсказывать точнее,чем 50 на 50"
   ]
  },
  {
   "cell_type": "markdown",
   "metadata": {},
   "source": [
    "### Нормализация"
   ]
  },
  {
   "cell_type": "markdown",
   "metadata": {},
   "source": [
    "Добавим нормализацию к числовым фичам и попробуем обучить модель ещё раз"
   ]
  },
  {
   "cell_type": "code",
   "execution_count": 13,
   "metadata": {},
   "outputs": [],
   "source": [
    "dataset = loan_dataset.VehicleLoanDataset(os.path.join(data_path, 'train.csv'), balance=True, normalize=True, mode='train', test_size=0.2)"
   ]
  },
  {
   "cell_type": "code",
   "execution_count": 17,
   "metadata": {},
   "outputs": [
    {
     "data": {
      "text/plain": [
       "Sequential(\n",
       "  (0): Linear(in_features=35, out_features=64, bias=True)\n",
       "  (1): ReLU()\n",
       "  (2): Linear(in_features=64, out_features=1, bias=True)\n",
       ")"
      ]
     },
     "execution_count": 17,
     "metadata": {},
     "output_type": "execute_result"
    }
   ],
   "source": [
    "input_size = dataset.get_shape()[1]\n",
    "hidden_sizes = 64\n",
    "model = Sequential(nn.Linear(input_size, hidden_sizes),\n",
    "                   nn.ReLU(),\n",
    "                   nn.Linear(hidden_sizes, 1)\n",
    "                  )\n",
    "model.to(device)"
   ]
  },
  {
   "cell_type": "code",
   "execution_count": 18,
   "metadata": {},
   "outputs": [],
   "source": [
    "EPOCHS = 30\n",
    "BATCH_SIZE = 32\n",
    "LEARNING_RATE = 0.001\n",
    "\n",
    "dataloader = DataLoader(dataset, batch_size=BATCH_SIZE, shuffle=False, num_workers=2)\n",
    "criterion = nn.BCEWithLogitsLoss()\n",
    "optimizer = optim.Adam(model.parameters(), lr=LEARNING_RATE)"
   ]
  },
  {
   "cell_type": "code",
   "execution_count": 19,
   "metadata": {},
   "outputs": [
    {
     "name": "stdout",
     "output_type": "stream",
     "text": [
      "[1] loss: 8.38466224617402, accuracy: 0.512797169263655\n",
      "[2] loss: 3.5232519856908104, accuracy: 0.5193930190660265\n",
      "[3] loss: 3.0358932612206155, accuracy: 0.5234909032880082\n",
      "[4] loss: 2.762283181095783, accuracy: 0.5238491048690359\n",
      "[5] loss: 2.516505836498125, accuracy: 0.5262112008842084\n",
      "[6] loss: 2.0810781646151786, accuracy: 0.5257033248192708\n",
      "[7] loss: 2.0691115538357745, accuracy: 0.5260862299576107\n",
      "[8] loss: 1.8149943249734495, accuracy: 0.5279745989401821\n",
      "[9] loss: 1.6809602002027948, accuracy: 0.5289147872698637\n",
      "[10] loss: 1.4268374684299876, accuracy: 0.5291741746216423\n",
      "[11] loss: 1.3500374873871859, accuracy: 0.5295432748295101\n",
      "[12] loss: 1.2694898613945769, accuracy: 0.5253560218650833\n",
      "[13] loss: 1.1842506761136262, accuracy: 0.5295461811213625\n",
      "[14] loss: 1.1622218790143846, accuracy: 0.5285318821315238\n",
      "[15] loss: 1.0926299559504618, accuracy: 0.5313204778041765\n",
      "[16] loss: 1.0547530930739617, accuracy: 0.5311381074279664\n",
      "[17] loss: 0.9758867811779731, accuracy: 0.5312739769931838\n",
      "[18] loss: 0.9155272531297367, accuracy: 0.5337443327244091\n",
      "[19] loss: 0.8954314990123742, accuracy: 0.5342507556493103\n",
      "[20] loss: 0.8722384478263704, accuracy: 0.538116862368678\n",
      "[21] loss: 0.8449437249083764, accuracy: 0.5391529586239766\n",
      "[22] loss: 0.820814637044673, accuracy: 0.5395496686927886\n",
      "[23] loss: 0.8099347980832865, accuracy: 0.5395743722501009\n",
      "[24] loss: 0.8011099591321154, accuracy: 0.541834747744172\n",
      "[25] loss: 0.7873303109006919, accuracy: 0.5393287898170147\n",
      "[26] loss: 0.7626539409867389, accuracy: 0.539254679145078\n",
      "[27] loss: 0.7441930886785032, accuracy: 0.5401193036510068\n",
      "[28] loss: 0.7209858488895206, accuracy: 0.5421791443947276\n",
      "[29] loss: 0.7059235001976782, accuracy: 0.5459725935939743\n",
      "[30] loss: 0.6909536333187767, accuracy: 0.5468372180999033\n",
      "Finished Training\n"
     ]
    }
   ],
   "source": [
    "model.train()\n",
    "for epoch in range(EPOCHS): \n",
    "\n",
    "    epoch_loss = 0.0\n",
    "    epoch_acc = 0.0\n",
    "    i_last = 0\n",
    "    for i, data in enumerate(dataloader):\n",
    "        X_batch, y_batch = data\n",
    "        X_batch, y_batch = X_batch.to(device), y_batch.to(device)\n",
    "\n",
    "        optimizer.zero_grad()\n",
    "        y_pred = model(X_batch)\n",
    "        loss = criterion(y_pred, y_batch)\n",
    "        acc = binary_acc(y_pred, y_batch)\n",
    "        \n",
    "        loss.backward()\n",
    "        optimizer.step()\n",
    "\n",
    "        # print statistics        \n",
    "        epoch_loss += loss.item()\n",
    "        epoch_acc += acc.item()\n",
    "        i_last = i\n",
    "    \n",
    "\n",
    "    print(f'[{epoch + 1}] loss: {epoch_loss / i_last}, accuracy: {epoch_acc/i_last}')\n",
    "\n",
    "\n",
    "print('Finished Training')"
   ]
  },
  {
   "cell_type": "markdown",
   "metadata": {},
   "source": [
    "Нормализация даже помогла! Жаль не сильно"
   ]
  },
  {
   "cell_type": "code",
   "execution_count": 30,
   "metadata": {},
   "outputs": [],
   "source": [
    "dataset.set_mode('test')\n",
    "test_dataloader = DataLoader(dataset=dataset, batch_size=1)\n",
    "y_pred_list = []\n",
    "y_true_list = []\n",
    "model.eval()\n",
    "with torch.no_grad():\n",
    "    for X_batch, y_test in test_dataloader:\n",
    "        X_batch = X_batch.to(device)\n",
    "        y_test_pred = model(X_batch)\n",
    "        y_test_pred = torch.sigmoid(y_test_pred)\n",
    "        y_pred_tag = torch.round(y_test_pred)\n",
    "        y_pred_list.append(y_pred_tag.cpu().numpy())\n",
    "        y_true_list.append(y_test.cpu().numpy())\n"
   ]
  },
  {
   "cell_type": "code",
   "execution_count": 31,
   "metadata": {},
   "outputs": [
    {
     "data": {
      "text/plain": [
       "20245"
      ]
     },
     "execution_count": 31,
     "metadata": {},
     "output_type": "execute_result"
    }
   ],
   "source": [
    "len(y_pred_list)"
   ]
  },
  {
   "cell_type": "code",
   "execution_count": 33,
   "metadata": {},
   "outputs": [],
   "source": [
    "y_pred_list = np.array([a.squeeze().item() for a in y_pred_list])\n",
    "y_true_list = np.array([a.squeeze().item() for a in y_true_list])"
   ]
  },
  {
   "cell_type": "code",
   "execution_count": 25,
   "metadata": {},
   "outputs": [
    {
     "data": {
      "text/plain": [
       "13204.0"
      ]
     },
     "execution_count": 25,
     "metadata": {},
     "output_type": "execute_result"
    }
   ],
   "source": [
    "y_pred_list[y_pred_list > 0.5].sum()"
   ]
  },
  {
   "cell_type": "markdown",
   "metadata": {},
   "source": [
    "Уже не одни единички!"
   ]
  },
  {
   "cell_type": "code",
   "execution_count": 27,
   "metadata": {},
   "outputs": [],
   "source": [
    "from sklearn.metrics import f1_score, accuracy_score"
   ]
  },
  {
   "cell_type": "code",
   "execution_count": 36,
   "metadata": {},
   "outputs": [
    {
     "data": {
      "text/plain": [
       "0.6238211069858746"
      ]
     },
     "execution_count": 36,
     "metadata": {},
     "output_type": "execute_result"
    }
   ],
   "source": [
    "f1_score(y_true_list,y_pred_list)"
   ]
  },
  {
   "cell_type": "code",
   "execution_count": 37,
   "metadata": {},
   "outputs": [
    {
     "data": {
      "text/plain": [
       "0.56458384786367"
      ]
     },
     "execution_count": 37,
     "metadata": {},
     "output_type": "execute_result"
    }
   ],
   "source": [
    "accuracy_score(y_true_list,y_pred_list)"
   ]
  },
  {
   "cell_type": "markdown",
   "metadata": {},
   "source": [
    "Не так уж и плохо!😁"
   ]
  },
  {
   "cell_type": "markdown",
   "metadata": {},
   "source": [
    "### Добавим ещё один слой"
   ]
  },
  {
   "cell_type": "code",
   "execution_count": 38,
   "metadata": {},
   "outputs": [],
   "source": [
    "dataset = loan_dataset.VehicleLoanDataset(os.path.join(data_path, 'train.csv'), balance=True, normalize=True, mode='train', test_size=0.2)"
   ]
  },
  {
   "cell_type": "code",
   "execution_count": 40,
   "metadata": {},
   "outputs": [
    {
     "data": {
      "text/plain": [
       "Sequential(\n",
       "  (0): Linear(in_features=35, out_features=64, bias=True)\n",
       "  (1): ReLU()\n",
       "  (2): Linear(in_features=64, out_features=64, bias=True)\n",
       "  (3): ReLU()\n",
       "  (4): Linear(in_features=64, out_features=1, bias=True)\n",
       ")"
      ]
     },
     "execution_count": 40,
     "metadata": {},
     "output_type": "execute_result"
    }
   ],
   "source": [
    "input_size = dataset.get_shape()[1]\n",
    "model = Sequential(nn.Linear(input_size, 64),\n",
    "                   nn.ReLU(),\n",
    "                   nn.Linear(64, 64),\n",
    "                   nn.ReLU(),\n",
    "                   nn.Linear(hidden_sizes, 1)\n",
    "                  )\n",
    "model.to(device)"
   ]
  },
  {
   "cell_type": "code",
   "execution_count": 41,
   "metadata": {},
   "outputs": [],
   "source": [
    "EPOCHS = 30\n",
    "BATCH_SIZE = 32\n",
    "LEARNING_RATE = 0.001\n",
    "\n",
    "dataloader = DataLoader(dataset, batch_size=BATCH_SIZE, shuffle=False, num_workers=2)\n",
    "criterion = nn.BCEWithLogitsLoss()\n",
    "optimizer = optim.Adam(model.parameters(), lr=LEARNING_RATE)"
   ]
  },
  {
   "cell_type": "code",
   "execution_count": 42,
   "metadata": {},
   "outputs": [
    {
     "name": "stdout",
     "output_type": "stream",
     "text": [
      "[1] loss: 5.490227234587368, accuracy: 0.5071138979418004\n",
      "[2] loss: 1.5172485000531193, accuracy: 0.5163653801552391\n",
      "[3] loss: 1.0761470808695428, accuracy: 0.5237037898170147\n",
      "[4] loss: 0.8558219431417262, accuracy: 0.5304217042659111\n",
      "[5] loss: 0.7773317164583169, accuracy: 0.5288915368525878\n",
      "[6] loss: 0.724715863904463, accuracy: 0.5276287491378105\n",
      "[7] loss: 0.7009315872145264, accuracy: 0.5364864275860692\n",
      "[8] loss: 0.6902317666253553, accuracy: 0.5402522669243718\n",
      "[9] loss: 0.6893473392654313, accuracy: 0.5380921588113656\n",
      "[10] loss: 0.6923985961633238, accuracy: 0.5155639676826274\n",
      "[11] loss: 0.6929890446747716, accuracy: 0.5032368925838131\n",
      "[12] loss: 0.6934459538092255, accuracy: 0.5006306672873704\n",
      "[13] loss: 0.6934438060159268, accuracy: 0.5008777028604929\n",
      "[14] loss: 0.693772032279742, accuracy: 0.5010629795403349\n",
      "[15] loss: 0.6934453373369963, accuracy: 0.5009024064178053\n",
      "[16] loss: 0.6934453970123186, accuracy: 0.5009024064178053\n",
      "[17] loss: 0.6934453973892649, accuracy: 0.5009024064178053\n",
      "[18] loss: 0.6934453977426521, accuracy: 0.5009024064178053\n",
      "[19] loss: 0.6934453982138351, accuracy: 0.5009024064178053\n",
      "[20] loss: 0.6934453980018027, accuracy: 0.5009024064178053\n",
      "[21] loss: 0.6934453980018027, accuracy: 0.5009024064178053\n",
      "[22] loss: 0.6934453980018027, accuracy: 0.5009024064178053\n",
      "[23] loss: 0.6934453980018027, accuracy: 0.5009024064178053\n",
      "[24] loss: 0.6934453980018027, accuracy: 0.5009024064178053\n",
      "[25] loss: 0.6934453980018027, accuracy: 0.5009024064178053\n",
      "[26] loss: 0.6934453980018027, accuracy: 0.5009024064178053\n",
      "[27] loss: 0.6934453980018027, accuracy: 0.5009024064178053\n",
      "[28] loss: 0.6934453980018027, accuracy: 0.5009024064178053\n",
      "[29] loss: 0.6934453980018027, accuracy: 0.5009024064178053\n",
      "[30] loss: 0.6934453980018027, accuracy: 0.5009024064178053\n",
      "Finished Training\n"
     ]
    }
   ],
   "source": [
    "model.train()\n",
    "for epoch in range(EPOCHS): \n",
    "\n",
    "    epoch_loss = 0.0\n",
    "    epoch_acc = 0.0\n",
    "    i_last = 0\n",
    "    for i, data in enumerate(dataloader):\n",
    "        X_batch, y_batch = data\n",
    "        X_batch, y_batch = X_batch.to(device), y_batch.to(device)\n",
    "\n",
    "        optimizer.zero_grad()\n",
    "        y_pred = model(X_batch)\n",
    "        loss = criterion(y_pred, y_batch)\n",
    "        acc = binary_acc(y_pred, y_batch)\n",
    "        \n",
    "        loss.backward()\n",
    "        optimizer.step()\n",
    "\n",
    "        # print statistics        \n",
    "        epoch_loss += loss.item()\n",
    "        epoch_acc += acc.item()\n",
    "        i_last = i\n",
    "    \n",
    "    print(f'[{epoch + 1}] loss: {epoch_loss / i_last}, accuracy: {epoch_acc/i_last}')\n",
    "print('Finished Training')"
   ]
  },
  {
   "cell_type": "code",
   "execution_count": 43,
   "metadata": {},
   "outputs": [],
   "source": [
    "dataset.set_mode('test')\n",
    "test_dataloader = DataLoader(dataset=dataset, batch_size=1)\n",
    "y_pred_list = []\n",
    "y_true_list = []\n",
    "model.eval()\n",
    "with torch.no_grad():\n",
    "    for X_batch, y_test in test_dataloader:\n",
    "        X_batch = X_batch.to(device)\n",
    "        y_test_pred = model(X_batch)\n",
    "        y_test_pred = torch.sigmoid(y_test_pred)\n",
    "        y_pred_tag = torch.round(y_test_pred)\n",
    "        y_pred_list.append(y_pred_tag.cpu().numpy())\n",
    "        y_true_list.append(y_test.cpu().numpy())\n"
   ]
  },
  {
   "cell_type": "code",
   "execution_count": 45,
   "metadata": {},
   "outputs": [],
   "source": [
    "y_pred_list = np.array([a.squeeze().item() for a in y_pred_list])\n",
    "y_true_list = np.array([a.squeeze().item() for a in y_true_list])"
   ]
  },
  {
   "cell_type": "code",
   "execution_count": 46,
   "metadata": {},
   "outputs": [
    {
     "data": {
      "text/plain": [
       "20245.0"
      ]
     },
     "execution_count": 46,
     "metadata": {},
     "output_type": "execute_result"
    }
   ],
   "source": [
    "y_pred_list[y_pred_list > 0.5].sum()"
   ]
  },
  {
   "cell_type": "markdown",
   "metadata": {},
   "source": [
    "Как-то всё опять сломалось 😕 "
   ]
  },
  {
   "cell_type": "code",
   "execution_count": 47,
   "metadata": {},
   "outputs": [
    {
     "data": {
      "text/plain": [
       "0.6713263765833168"
      ]
     },
     "execution_count": 47,
     "metadata": {},
     "output_type": "execute_result"
    }
   ],
   "source": [
    "f1_score(y_true_list,y_pred_list)"
   ]
  },
  {
   "cell_type": "code",
   "execution_count": 48,
   "metadata": {},
   "outputs": [
    {
     "data": {
      "text/plain": [
       "0.5052605581625093"
      ]
     },
     "execution_count": 48,
     "metadata": {},
     "output_type": "execute_result"
    }
   ],
   "source": [
    "accuracy_score(y_true_list,y_pred_list)"
   ]
  },
  {
   "cell_type": "markdown",
   "metadata": {},
   "source": [
    "### Попробуем добавить дропаут"
   ]
  },
  {
   "cell_type": "code",
   "execution_count": 49,
   "metadata": {},
   "outputs": [],
   "source": [
    "dataset = loan_dataset.VehicleLoanDataset(os.path.join(data_path, 'train.csv'), balance=True, normalize=True, mode='train', test_size=0.2)"
   ]
  },
  {
   "cell_type": "code",
   "execution_count": 52,
   "metadata": {},
   "outputs": [
    {
     "data": {
      "text/plain": [
       "Sequential(\n",
       "  (0): Linear(in_features=35, out_features=64, bias=True)\n",
       "  (1): ReLU()\n",
       "  (2): Dropout(p=0.5, inplace=False)\n",
       "  (3): Linear(in_features=64, out_features=64, bias=True)\n",
       "  (4): Dropout(p=0.5, inplace=False)\n",
       "  (5): ReLU()\n",
       "  (6): Linear(in_features=64, out_features=1, bias=True)\n",
       ")"
      ]
     },
     "execution_count": 52,
     "metadata": {},
     "output_type": "execute_result"
    }
   ],
   "source": [
    "input_size = dataset.get_shape()[1]\n",
    "model = Sequential(nn.Linear(input_size, 64),\n",
    "                   nn.ReLU(),\n",
    "                   nn.Dropout(0.5),\n",
    "                   nn.Linear(64, 64),\n",
    "                   nn.Dropout(0.5),\n",
    "                   nn.ReLU(),\n",
    "                   nn.Linear(hidden_sizes, 1)\n",
    "                  )\n",
    "model.to(device)"
   ]
  },
  {
   "cell_type": "code",
   "execution_count": 53,
   "metadata": {},
   "outputs": [],
   "source": [
    "EPOCHS = 30\n",
    "BATCH_SIZE = 32\n",
    "LEARNING_RATE = 0.001\n",
    "\n",
    "dataloader = DataLoader(dataset, batch_size=BATCH_SIZE, shuffle=False, num_workers=2)\n",
    "criterion = nn.BCEWithLogitsLoss()\n",
    "optimizer = optim.Adam(model.parameters(), lr=LEARNING_RATE)"
   ]
  },
  {
   "cell_type": "code",
   "execution_count": 54,
   "metadata": {},
   "outputs": [
    {
     "name": "stdout",
     "output_type": "stream",
     "text": [
      "[1] loss: 4.6623958381621735, accuracy: 0.5003204196809309\n",
      "[2] loss: 0.7020003935093936, accuracy: 0.5019908160913603\n",
      "[3] loss: 0.6954655106124199, accuracy: 0.5012976633348013\n",
      "[4] loss: 0.694736669704377, accuracy: 0.5008777028604929\n",
      "[5] loss: 0.6943974586107985, accuracy: 0.5007294815166194\n",
      "[6] loss: 0.6947189323044577, accuracy: 0.5002107068130621\n",
      "[7] loss: 0.6946779542054112, accuracy: 0.5009024064178053\n",
      "[8] loss: 0.6944712582313025, accuracy: 0.5001242443624693\n",
      "[9] loss: 0.6938077283235407, accuracy: 0.5007418332952756\n",
      "[10] loss: 0.693476587416155, accuracy: 0.5010012206470542\n",
      "[11] loss: 0.6942914700555236, accuracy: 0.5009024064178053\n",
      "[12] loss: 0.6945153543600452, accuracy: 0.5010012206470542\n",
      "[13] loss: 0.6937477161055026, accuracy: 0.500890054639149\n",
      "[14] loss: 0.6935446347408144, accuracy: 0.5007665368525879\n",
      "[15] loss: 0.6934466507123864, accuracy: 0.5008653510818368\n",
      "[16] loss: 0.6934421482529094, accuracy: 0.5009147581964614\n",
      "[17] loss: 0.6934478300597828, accuracy: 0.5008777028604929\n",
      "[18] loss: 0.6934464307877386, accuracy: 0.5009147581964614\n",
      "[19] loss: 0.693446463134449, accuracy: 0.5009024064178053\n",
      "[20] loss: 0.6934418165165445, accuracy: 0.5009024064178053\n",
      "[21] loss: 0.6934476847469571, accuracy: 0.5009394617537736\n",
      "[22] loss: 0.6934489302955598, accuracy: 0.500890054639149\n",
      "[23] loss: 0.6934472704122189, accuracy: 0.500890054639149\n",
      "[24] loss: 0.6936625936992554, accuracy: 0.5007912404099001\n",
      "[25] loss: 0.6934460696731161, accuracy: 0.5009024064178053\n",
      "[26] loss: 0.6934449041549396, accuracy: 0.5009024064178053\n",
      "[27] loss: 0.6934460370908142, accuracy: 0.5009147581964614\n",
      "[28] loss: 0.693443591015141, accuracy: 0.5009024064178053\n",
      "[29] loss: 0.6934423477282166, accuracy: 0.5009147581964614\n",
      "[30] loss: 0.6934520315275833, accuracy: 0.5007912404099001\n",
      "Finished Training\n"
     ]
    }
   ],
   "source": [
    "model.train()\n",
    "for epoch in range(EPOCHS): \n",
    "\n",
    "    epoch_loss = 0.0\n",
    "    epoch_acc = 0.0\n",
    "    i_last = 0\n",
    "    for i, data in enumerate(dataloader):\n",
    "        X_batch, y_batch = data\n",
    "        X_batch, y_batch = X_batch.to(device), y_batch.to(device)\n",
    "\n",
    "        optimizer.zero_grad()\n",
    "        y_pred = model(X_batch)\n",
    "        loss = criterion(y_pred, y_batch)\n",
    "        acc = binary_acc(y_pred, y_batch)\n",
    "        \n",
    "        loss.backward()\n",
    "        optimizer.step()\n",
    "\n",
    "        # print statistics        \n",
    "        epoch_loss += loss.item()\n",
    "        epoch_acc += acc.item()\n",
    "        i_last = i\n",
    "    \n",
    "    print(f'[{epoch + 1}] loss: {epoch_loss / i_last}, accuracy: {epoch_acc/i_last}')\n",
    "print('Finished Training')"
   ]
  },
  {
   "cell_type": "code",
   "execution_count": 55,
   "metadata": {},
   "outputs": [],
   "source": [
    "dataset.set_mode('test')\n",
    "test_dataloader = DataLoader(dataset=dataset, batch_size=1)\n",
    "y_pred_list = []\n",
    "y_true_list = []\n",
    "model.eval()\n",
    "with torch.no_grad():\n",
    "    for X_batch, y_test in test_dataloader:\n",
    "        X_batch = X_batch.to(device)\n",
    "        y_test_pred = model(X_batch)\n",
    "        y_test_pred = torch.sigmoid(y_test_pred)\n",
    "        y_pred_tag = torch.round(y_test_pred)\n",
    "        y_pred_list.append(y_pred_tag.cpu().numpy())\n",
    "        y_true_list.append(y_test.cpu().numpy())\n"
   ]
  },
  {
   "cell_type": "code",
   "execution_count": 56,
   "metadata": {},
   "outputs": [],
   "source": [
    "y_pred_list = np.array([a.squeeze().item() for a in y_pred_list])\n",
    "y_true_list = np.array([a.squeeze().item() for a in y_true_list])"
   ]
  },
  {
   "cell_type": "code",
   "execution_count": 59,
   "metadata": {},
   "outputs": [
    {
     "data": {
      "text/plain": [
       "20245.0"
      ]
     },
     "execution_count": 59,
     "metadata": {},
     "output_type": "execute_result"
    }
   ],
   "source": [
    "y_pred_list[y_pred_list > 0.5].sum()"
   ]
  },
  {
   "cell_type": "markdown",
   "metadata": {},
   "source": [
    "Ровно то же самое"
   ]
  },
  {
   "cell_type": "code",
   "execution_count": 60,
   "metadata": {},
   "outputs": [
    {
     "data": {
      "text/plain": [
       "0.6713263765833168"
      ]
     },
     "execution_count": 60,
     "metadata": {},
     "output_type": "execute_result"
    }
   ],
   "source": [
    "f1_score(y_true_list,y_pred_list)"
   ]
  },
  {
   "cell_type": "code",
   "execution_count": 61,
   "metadata": {},
   "outputs": [
    {
     "data": {
      "text/plain": [
       "0.5052605581625093"
      ]
     },
     "execution_count": 61,
     "metadata": {},
     "output_type": "execute_result"
    }
   ],
   "source": [
    "accuracy_score(y_true_list,y_pred_list)"
   ]
  },
  {
   "cell_type": "markdown",
   "metadata": {},
   "source": [
    "### Зависимость от числа нейронов"
   ]
  },
  {
   "cell_type": "markdown",
   "metadata": {},
   "source": [
    "Вернёмся к первой молели и посмотрим на зависимость точности от числа нейронов"
   ]
  },
  {
   "cell_type": "code",
   "execution_count": 86,
   "metadata": {},
   "outputs": [],
   "source": [
    "dataset = loan_dataset.VehicleLoanDataset(os.path.join(data_path, 'train.csv'), balance=True, normalize=True, mode='train', test_size=0.2)"
   ]
  },
  {
   "cell_type": "code",
   "execution_count": 87,
   "metadata": {},
   "outputs": [],
   "source": [
    "hidden_sizes = [30, 48, 64, 82, 128]\n",
    "input_size = dataset.get_shape()[1]"
   ]
  },
  {
   "cell_type": "code",
   "execution_count": 88,
   "metadata": {},
   "outputs": [],
   "source": [
    "EPOCHS = 20\n",
    "BATCH_SIZE = 64\n",
    "LEARNING_RATE = 0.001"
   ]
  },
  {
   "cell_type": "code",
   "execution_count": 90,
   "metadata": {},
   "outputs": [],
   "source": [
    "result_dict = dict()"
   ]
  },
  {
   "cell_type": "code",
   "execution_count": 91,
   "metadata": {},
   "outputs": [
    {
     "name": "stdout",
     "output_type": "stream",
     "text": [
      "[Hidden size is 30] Start Training. \n",
      ">>>>> [Hidden size is 30] Epoch 9\n",
      ">>>>> [Hidden size is 30] Epoch 19\n",
      "[Hidden size is 30]Finished Training. \n",
      "[Hidden size is 48] Start Training. \n",
      ">>>>> [Hidden size is 48] Epoch 9\n",
      ">>>>> [Hidden size is 48] Epoch 19\n",
      "[Hidden size is 48]Finished Training. \n",
      "[Hidden size is 64] Start Training. \n",
      ">>>>> [Hidden size is 64] Epoch 9\n",
      ">>>>> [Hidden size is 64] Epoch 19\n",
      "[Hidden size is 64]Finished Training. \n",
      "[Hidden size is 82] Start Training. \n",
      ">>>>> [Hidden size is 82] Epoch 9\n",
      ">>>>> [Hidden size is 82] Epoch 19\n",
      "[Hidden size is 82]Finished Training. \n",
      "[Hidden size is 128] Start Training. \n",
      ">>>>> [Hidden size is 128] Epoch 9\n",
      ">>>>> [Hidden size is 128] Epoch 19\n",
      "[Hidden size is 128]Finished Training. \n"
     ]
    }
   ],
   "source": [
    "for s in hidden_sizes:\n",
    "    model = Sequential(nn.Linear(input_size, s),\n",
    "                       nn.ReLU(),\n",
    "                       nn.Linear(s, 1)\n",
    "                      )\n",
    "    model.to(device)\n",
    "    \n",
    "    criterion = nn.BCEWithLogitsLoss()\n",
    "    optimizer = optim.Adam(model.parameters(), lr=LEARNING_RATE)\n",
    "    model.train()\n",
    "    dataset.set_mode('train')\n",
    "    dataloader = DataLoader(dataset, batch_size=BATCH_SIZE, shuffle=False, num_workers=4)\n",
    "    \n",
    "    print(f'[Hidden size is {s}] Start Training. ')\n",
    "    for epoch in range(EPOCHS): \n",
    "        if epoch % 10 == 9:\n",
    "            print('>'*5, f'[Hidden size is {s}] Epoch {epoch}')\n",
    "        for i, data in enumerate(dataloader):\n",
    "            X_batch, y_batch = data\n",
    "            X_batch, y_batch = X_batch.to(device), y_batch.to(device)\n",
    "            optimizer.zero_grad()\n",
    "            y_pred = model(X_batch)\n",
    "            loss = criterion(y_pred, y_batch)\n",
    "            acc = binary_acc(y_pred, y_batch)\n",
    "            loss.backward()\n",
    "            optimizer.step()\n",
    "            \n",
    "    print(f'[Hidden size is {s}]Finished Training. ')\n",
    "            \n",
    "    result_dict[s] = model"
   ]
  },
  {
   "cell_type": "code",
   "execution_count": 85,
   "metadata": {},
   "outputs": [
    {
     "data": {
      "text/plain": [
       "array([[1.]], dtype=float32)"
      ]
     },
     "execution_count": 85,
     "metadata": {},
     "output_type": "execute_result"
    }
   ],
   "source": [
    "y_pred_tag.cpu().numpy()"
   ]
  },
  {
   "cell_type": "code",
   "execution_count": 94,
   "metadata": {},
   "outputs": [],
   "source": [
    "dataset.set_mode('test')\n",
    "test_dataloader = DataLoader(dataset=dataset, batch_size=1)"
   ]
  },
  {
   "cell_type": "code",
   "execution_count": 111,
   "metadata": {},
   "outputs": [],
   "source": [
    "f1_scores_dict= dict()\n",
    "s_scores_dict= dict()\n",
    "accuracy_scores_dict= dict()"
   ]
  },
  {
   "cell_type": "code",
   "execution_count": 112,
   "metadata": {},
   "outputs": [],
   "source": [
    "for s, model in result_dict.items():\n",
    "\n",
    "    \n",
    "    y_pred_list = []\n",
    "    y_true_list = []\n",
    "    model.eval()\n",
    "    with torch.no_grad():\n",
    "        for X_batch, y_test in test_dataloader:\n",
    "            X_batch = X_batch.to(device)\n",
    "            y_test_pred = model(X_batch)\n",
    "            y_test_pred = torch.sigmoid(y_test_pred)\n",
    "            y_pred_tag = torch.round(y_test_pred)\n",
    "            y_pred_list.append(y_pred_tag.cpu().numpy())\n",
    "            y_true_list.append(y_test.cpu().numpy())\n",
    "\n",
    "    y_pred_list = np.array([a.squeeze().item() for a in y_pred_list])\n",
    "    y_true_list = np.array([a.squeeze().item() for a in y_true_list])\n",
    "\n",
    "    f1_scores_dict[s] =  f1_score(y_true_list,y_pred_list)\n",
    "    s_scores_dict[s] = y_pred_list[y_pred_list > 0.5].sum()\n",
    "    accuracy_scores_dict[s] = accuracy_score(y_true_list,y_pred_list)"
   ]
  },
  {
   "cell_type": "code",
   "execution_count": 97,
   "metadata": {},
   "outputs": [
    {
     "data": {
      "text/plain": [
       "{30: (0.5604840701407755, 0.4217572134130491, 5159.0),\n",
       " 48: (0.5183996048407014, 0.1406663141195135, 1117.0),\n",
       " 64: (0.4959743146455915, 0.007199844327690212, 49.0),\n",
       " 82: (0.57732773524327, 0.6416216442601667, 13648.0),\n",
       " 128: (0.532279575203754, 0.6751963777312798, 18924.0)}"
      ]
     },
     "execution_count": 97,
     "metadata": {},
     "output_type": "execute_result"
    }
   ],
   "source": [
    "scores_dict"
   ]
  },
  {
   "cell_type": "code",
   "execution_count": 116,
   "metadata": {},
   "outputs": [],
   "source": [
    "df_f1 = pd.DataFrame.from_dict(f1_scores_dict, orient='index', columns=['f1'])\n",
    "df_ones = pd.DataFrame.from_dict(s_scores_dict, orient='index', columns=['ones'])\n",
    "df_acc = pd.DataFrame.from_dict(accuracy_scores_dict, orient='index', columns=['accuracy'])"
   ]
  },
  {
   "cell_type": "code",
   "execution_count": 117,
   "metadata": {},
   "outputs": [],
   "source": [
    "import seaborn as sns"
   ]
  },
  {
   "cell_type": "code",
   "execution_count": 124,
   "metadata": {},
   "outputs": [
    {
     "data": {
      "image/png": "[encoded data removed]",
      "text/plain": [
       "<Figure size 432x288 with 1 Axes>"
      ]
     },
     "metadata": {
      "needs_background": "light"
     },
     "output_type": "display_data"
    }
   ],
   "source": [
    "sns.scatterplot(x='index', y='f1', data=df_f1.reset_index())\n",
    "plt.show()"
   ]
  },
  {
   "cell_type": "code",
   "execution_count": 126,
   "metadata": {},
   "outputs": [
    {
     "data": {
      "image/png": "[encoded data removed]",
      "text/plain": [
       "<Figure size 432x288 with 1 Axes>"
      ]
     },
     "metadata": {
      "needs_background": "light"
     },
     "output_type": "display_data"
    }
   ],
   "source": [
    "sns.scatterplot(x='index', y='ones', data=df_ones.reset_index())\n",
    "plt.show()"
   ]
  },
  {
   "cell_type": "code",
   "execution_count": 127,
   "metadata": {},
   "outputs": [
    {
     "data": {
      "image/png": "[encoded data removed]",
      "text/plain": [
       "<Figure size 432x288 with 1 Axes>"
      ]
     },
     "metadata": {
      "needs_background": "light"
     },
     "output_type": "display_data"
    }
   ],
   "source": [
    "sns.scatterplot(x='index', y='accuracy', data=df_acc.reset_index())\n",
    "plt.show()"
   ]
  },
  {
   "cell_type": "markdown",
   "metadata": {},
   "source": [
    "Судя по графику, лучшее качество даёт число слоёв равное примерно 80"
   ]
  }
 ],
 "metadata": {
  "kernelspec": {
   "display_name": "Python 3",
   "language": "python",
   "name": "python3"
  },
  "language_info": {
   "codemirror_mode": {
    "name": "ipython",
    "version": 3
   },
   "file_extension": ".py",
   "mimetype": "text/x-python",
   "name": "python",
   "nbconvert_exporter": "python",
   "pygments_lexer": "ipython3",
   "version": "3.6.10"
  }
 },
 "nbformat": 4,
 "nbformat_minor": 4
}
